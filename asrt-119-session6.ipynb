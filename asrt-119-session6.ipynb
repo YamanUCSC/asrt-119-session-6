{
 "cells": [
  {
   "cell_type": "markdown",
   "metadata": {},
   "source": [
    "# Making multipanel plots with matplotlib"
   ]
  },
  {
   "cell_type": "markdown",
   "metadata": {},
   "source": [
    "First, we import numpy and matplot lib as usual "
   ]
  },
  {
   "cell_type": "code",
   "execution_count": null,
   "metadata": {},
   "outputs": [],
   "source": [
    "%matplotlib inline\n",
    "import numpy as np\n",
    "import matplotlib.pyplot as plt "
   ]
  },
  {
   "cell_type": "markdown",
   "metadata": {},
   "source": [
    "Then we define an array of angles, their sines and cosines using numpy. this time we will use linespace "
   ]
  },
  {
   "cell_type": "code",
   "execution_count": null,
   "metadata": {},
   "outputs": [],
   "source": [
    "x = np.linspace(0,2*np.pi,100)\n",
    "print(x[-1],2*np.pi)\n",
    "\n",
    "y = np.sin(x)\n",
    "z = np.cos(x)\n",
    "w = np.sin(4*x)\n",
    "v = np.cos(4*x)"
   ]
  },
  {
   "cell_type": "markdown",
   "metadata": {},
   "source": [
    "Now, lets make a two panel plot side-by-side "
   ]
  },
  {
   "cell_type": "code",
   "execution_count": null,
   "metadata": {},
   "outputs": [],
   "source": [
    "#call subplots to generate a multpanel figure, this means 1 row, 2 colums of figures \n",
    "f, axarr = plt.subplots(1, 2)\n",
    "\n",
    "#treat axarr as an array, from left to righ t\n",
    "\n",
    "#first panel \n",
    "axarr[0].plot(x,y)\n",
    "axarr[0].set_xlabel('x')\n",
    "axarr[0].set_ylabel('sin(x)')\n",
    "axarr[0].set_title(r'$\\sin(x)')\n",
    "#second panel \n",
    "axarr[1].plot(x, z)\n",
    "axarr[1].set_xlabel('x')\n",
    "axarr[1].set_ylabel('cos(X)')\n",
    "axarr[1].set_title(r'$\\cos(X)$')"
   ]
  },
  {
   "cell_type": "markdown",
   "metadata": {},
   "source": [
    "## The panels are too close together, so we can adjust that using the subplots_adjust() function "
   ]
  },
  {
   "cell_type": "code",
   "execution_count": null,
   "metadata": {},
   "outputs": [],
   "source": [
    "#call subplots to generate a multpanel figure, this means 1 row, 2 colums of figures \n",
    "f, axarr = plt.subplots(1, 2)\n",
    "\n",
    "#treat axarr as an array, from left to righ t\n",
    "\n",
    "#first panel \n",
    "axarr[0].plot(x,y)\n",
    "axarr[0].set_xlabel('x')\n",
    "axarr[0].set_ylabel('sin(x)')\n",
    "axarr[0].set_title(r'$\\sin(x)')\n",
    "#second panel \n",
    "axarr[1].plot(x, z)\n",
    "axarr[1].set_xlabel('x')\n",
    "axarr[1].set_ylabel('cos(X)')\n",
    "axarr[1].set_title(r'$\\cos(X)$')\n",
    "\n",
    "#add more space between the figures \n",
    "f.subplots_adjust(wspace=0.4)\n",
    "\n",
    "#fix the acis ration \n",
    "#here are the two possible options \n",
    "axarr[0].set_aspect('equal')    #make the ration of teh tick units equal, a bit counter intuitive \n",
    "axarr[1].set_aspect(np.pi)      #make a square by setting the aspect to be the ratio of the tick unit range \n"
   ]
  },
  {
   "cell_type": "markdown",
   "metadata": {},
   "source": [
    "## Keep the square figure, merge them into one, remove the titles and add legends "
   ]
  },
  {
   "cell_type": "code",
   "execution_count": null,
   "metadata": {},
   "outputs": [],
   "source": [
    "#adjust the size of the figure \n",
    "fig = plt.figure(figsize=(6,6))\n",
    "\n",
    "plt.plot(x, y, label=r'$y =/sin(x)$')  #add a label to the line \n",
    "plt.plot(x, z, label=r'$y =/cos(x)$')  #add a label to the second line \n",
    "plt.plot(x, w, label=r'$y =/sin(4x)$')  #add a label to the third line \n",
    "plt.plot(x, v, label=r'$y =/cos(4x)$')  #add a label to the fourth line \n",
    "\n",
    "plt.xlabel(r'$x$')                      #note set_xlabel vs. xlabel \n",
    "plt.ylabel(r'$y(x)$')                   #note set_ylabel vs. ylabel \n",
    "plt.xlim([0,2*np.pi])                   #note set_xlim vs. xlim\n",
    "plt.ylim([-1.2,1.2])                    #note set_ylim vs. ylim\n",
    "plt.legend(loc=1,framealpha=0.95)       #add a legend with a semi-transpatent frame in the upper RH corner \n",
    "\n",
    "#fix the axis ration \n",
    "plt.gca().set_aspect(np.pi/1.2)   #use 'gca'"
   ]
  },
  {
   "cell_type": "code",
   "execution_count": null,
   "metadata": {},
   "outputs": [],
   "source": []
  }
 ],
 "metadata": {
  "kernelspec": {
   "display_name": "Python 3",
   "language": "python",
   "name": "python3"
  },
  "language_info": {
   "codemirror_mode": {
    "name": "ipython",
    "version": 3
   },
   "file_extension": ".py",
   "mimetype": "text/x-python",
   "name": "python",
   "nbconvert_exporter": "python",
   "pygments_lexer": "ipython3",
   "version": "3.6.5"
  }
 },
 "nbformat": 4,
 "nbformat_minor": 2
}
